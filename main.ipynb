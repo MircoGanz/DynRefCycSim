{
 "cells": [
  {
   "cell_type": "code",
   "execution_count": null,
   "id": "e2b4c228",
   "metadata": {
    "pycharm": {
     "name": "#%%\n"
    },
    "scrolled": false
   },
   "outputs": [],
   "source": [
    "from dep.func import simulation_loop\n",
    "from ipywidgets import interact, FloatSlider, widgets, Button, Output, Layout\n",
    "import threading\n",
    "from IPython.display import display, clear_output, HTML\n",
    "import matplotlib.pyplot as plt\n",
    "%matplotlib notebook\n",
    "display(HTML(\"<style>div.output_scroll { height: 120em; }</style>\"))\n",
    "\n",
    "control = {'stop_simulation': False}\n",
    "\n",
    "# Create separate output widgets for the plot and the buttons\n",
    "plot_output = Output()\n",
    "button_output = Output()\n",
    "\n",
    "# Button callback function\n",
    "def start_button_clicked(b):\n",
    "    global fig\n",
    "    # Create the figure inside the start button callback\n",
    "    with plot_output:\n",
    "        clear_output(wait=True)\n",
    "        fig = plt.figure(figsize=(10, 18))\n",
    "        control['stop_simulation'] = False\n",
    "        thread = threading.Thread(target=simulation_loop, args=(f_slider, m_evap_sec_slider, θi_evap_sec_slider, m_cond_sec_slider, θi_cond_sec_slider, SHsp_slider, control, fig))\n",
    "        thread.start()\n",
    "\n",
    "def stop_button_clicked(b):\n",
    "    control['stop_simulation'] = True\n",
    "    with plot_output:\n",
    "        clear_output(wait=True)\n",
    "    \n",
    "\n",
    "# Create buttons and assign callbacks\n",
    "start_button = Button(description=\"Start Simulation\")\n",
    "start_button.on_click(start_button_clicked)\n",
    "\n",
    "stop_button = Button(description=\"Stop Simulation\")\n",
    "stop_button.on_click(stop_button_clicked)\n",
    "\n",
    "# Display buttons in their dedicated output widget\n",
    "with button_output:\n",
    "    display(start_button, stop_button)\n",
    "\n",
    "    \n",
    "# Define widgets for the parameters\n",
    "f_slider = widgets.FloatSlider(value=30, min=30, max=50, step=1, description='Frequency (Hz):', style={'description_width': 'initial'})\n",
    "m_evap_sec_slider = widgets.FloatSlider(value=1.0, min=0.01, max=10.0, step=0.01, description='m_evap_sec (kg/s):', style={'description_width': 'initial'})\n",
    "θi_evap_sec_slider = widgets.FloatSlider(value=5.0, min=-5.0, max=10.0, step=0.1, description='Ti_evap_sec (°C):', style={'description_width': 'initial'})\n",
    "m_cond_sec_slider = widgets.FloatSlider(value=1.0, min=0.01, max=10.0, step=0.01, description='m_cond_sec (kg/s):', style={'description_width': 'initial'})\n",
    "θi_cond_sec_slider = widgets.FloatSlider(value=30.0, min=20.0, max=60.0, step=0.1, description='Ti_cond_sec (°C):', style={'description_width': 'initial'})\n",
    "SHsp_slider = widgets.FloatSlider(value=10.0, min=5.0, max=20.0, step=0.1, description='SH (K):', style={'description_width': 'initial'})\n",
    "\n",
    "# Display the widgets\n",
    "display(f_slider, m_evap_sec_slider, θi_evap_sec_slider, m_cond_sec_slider, θi_cond_sec_slider, SHsp_slider)\n",
    "\n",
    "# Display the output widgets\n",
    "display(button_output)\n",
    "display(plot_output)\n",
    "\n"
   ]
  },
  {
   "cell_type": "code",
   "execution_count": null,
   "id": "4f348419",
   "metadata": {
    "pycharm": {
     "name": "#%%\n"
    }
   },
   "outputs": [],
   "source": []
  }
 ],
 "metadata": {
  "kernelspec": {
   "display_name": "Python 3",
   "language": "python",
   "name": "python3"
  },
  "language_info": {
   "codemirror_mode": {
    "name": "ipython",
    "version": 3
   },
   "file_extension": ".py",
   "mimetype": "text/x-python",
   "name": "python",
   "nbconvert_exporter": "python",
   "pygments_lexer": "ipython3",
   "version": "3.10.11"
  }
 },
 "nbformat": 4,
 "nbformat_minor": 5
}